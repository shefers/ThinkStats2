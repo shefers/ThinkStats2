{
 "cells": [
  {
   "cell_type": "code",
   "execution_count": 28,
   "metadata": {},
   "outputs": [],
   "source": [
    "from __future__ import print_function, division\n",
    "\n",
    "%matplotlib inline\n",
    "import matplotlib.pyplot as plt\n",
    "import numpy as np\n",
    "import pandas as pd\n",
    "import nsfg\n",
    "import first\n",
    "import analytic\n",
    "import thinkstats2\n",
    "import thinkplot\n",
    "import scipy.stats\n",
    "import os"
   ]
  },
  {
   "cell_type": "code",
   "execution_count": 29,
   "metadata": {},
   "outputs": [
    {
     "data": {
      "text/plain": [
       "'C:\\\\Users\\\\shefe\\\\OneDrive\\\\Documents\\\\Data Exploration and Analysis\\\\ThinkStats2-master1\\\\code'"
      ]
     },
     "execution_count": 29,
     "metadata": {},
     "output_type": "execute_result"
    }
   ],
   "source": [
    "pwd"
   ]
  },
  {
   "cell_type": "code",
   "execution_count": 30,
   "metadata": {},
   "outputs": [],
   "source": [
    "df=pd.read_csv (\"Behavioral_Risk_Factors___Vision_and_Eye_Health_Surveillance.csv\")"
   ]
  },
  {
   "cell_type": "code",
   "execution_count": 31,
   "metadata": {},
   "outputs": [
    {
     "data": {
      "text/html": [
       "<div>\n",
       "<style scoped>\n",
       "    .dataframe tbody tr th:only-of-type {\n",
       "        vertical-align: middle;\n",
       "    }\n",
       "\n",
       "    .dataframe tbody tr th {\n",
       "        vertical-align: top;\n",
       "    }\n",
       "\n",
       "    .dataframe thead th {\n",
       "        text-align: right;\n",
       "    }\n",
       "</style>\n",
       "<table border=\"1\" class=\"dataframe\">\n",
       "  <thead>\n",
       "    <tr style=\"text-align: right;\">\n",
       "      <th></th>\n",
       "      <th>YearStart</th>\n",
       "      <th>YearEnd</th>\n",
       "      <th>LocationAbbr</th>\n",
       "      <th>LocationDesc</th>\n",
       "      <th>DataSource</th>\n",
       "      <th>Topic</th>\n",
       "      <th>Category</th>\n",
       "      <th>Question</th>\n",
       "      <th>Response</th>\n",
       "      <th>Age</th>\n",
       "      <th>...</th>\n",
       "      <th>Geolocation</th>\n",
       "      <th>TopicID</th>\n",
       "      <th>CategoryID</th>\n",
       "      <th>QuestionID</th>\n",
       "      <th>ResponseID</th>\n",
       "      <th>AgeID</th>\n",
       "      <th>GenderID</th>\n",
       "      <th>RaceEthnicityID</th>\n",
       "      <th>RiskFactorID</th>\n",
       "      <th>RiskFactorResponseID</th>\n",
       "    </tr>\n",
       "  </thead>\n",
       "  <tbody>\n",
       "    <tr>\n",
       "      <td>0</td>\n",
       "      <td>2016</td>\n",
       "      <td>2016</td>\n",
       "      <td>VI</td>\n",
       "      <td>U.S. Virgin Islands</td>\n",
       "      <td>BRFSS</td>\n",
       "      <td>Visual Function</td>\n",
       "      <td>Difficulty Seeing with Glasses</td>\n",
       "      <td>Percentage of people who are blind or have ser...</td>\n",
       "      <td>Yes</td>\n",
       "      <td>40-64 years</td>\n",
       "      <td>...</td>\n",
       "      <td>(18.335765, -64.896335)</td>\n",
       "      <td>TVFUNC</td>\n",
       "      <td>CDIFGL</td>\n",
       "      <td>BRVPGL</td>\n",
       "      <td>RYES</td>\n",
       "      <td>AGE4064</td>\n",
       "      <td>GALL</td>\n",
       "      <td>ALLRACE</td>\n",
       "      <td>RFAPAR</td>\n",
       "      <td>RFALLPAR2</td>\n",
       "    </tr>\n",
       "    <tr>\n",
       "      <td>1</td>\n",
       "      <td>2017</td>\n",
       "      <td>2017</td>\n",
       "      <td>NV</td>\n",
       "      <td>Nevada</td>\n",
       "      <td>BRFSS</td>\n",
       "      <td>Visual Function</td>\n",
       "      <td>Difficulty Seeing with Glasses</td>\n",
       "      <td>Percentage of people who are blind or have ser...</td>\n",
       "      <td>Yes</td>\n",
       "      <td>18-39 years</td>\n",
       "      <td>...</td>\n",
       "      <td>(39.49324039, -117.071840564)</td>\n",
       "      <td>TVFUNC</td>\n",
       "      <td>CDIFGL</td>\n",
       "      <td>BRVPGL</td>\n",
       "      <td>RYES</td>\n",
       "      <td>AGE1839</td>\n",
       "      <td>GALL</td>\n",
       "      <td>ALLRACE</td>\n",
       "      <td>RFAPAR</td>\n",
       "      <td>RFALLPAR2</td>\n",
       "    </tr>\n",
       "    <tr>\n",
       "      <td>2</td>\n",
       "      <td>2017</td>\n",
       "      <td>2017</td>\n",
       "      <td>WI</td>\n",
       "      <td>Wisconsin</td>\n",
       "      <td>BRFSS</td>\n",
       "      <td>Visual Function</td>\n",
       "      <td>Difficulty Seeing with Glasses</td>\n",
       "      <td>Percentage of people who are blind or have ser...</td>\n",
       "      <td>Yes</td>\n",
       "      <td>40-64 years</td>\n",
       "      <td>...</td>\n",
       "      <td>(44.393191174, -89.816370742)</td>\n",
       "      <td>TVFUNC</td>\n",
       "      <td>CDIFGL</td>\n",
       "      <td>BRVPGL</td>\n",
       "      <td>RYES</td>\n",
       "      <td>AGE4064</td>\n",
       "      <td>GALL</td>\n",
       "      <td>ALLRACE</td>\n",
       "      <td>RFAPAR</td>\n",
       "      <td>RFALLPAR2</td>\n",
       "    </tr>\n",
       "    <tr>\n",
       "      <td>3</td>\n",
       "      <td>2017</td>\n",
       "      <td>2017</td>\n",
       "      <td>WI</td>\n",
       "      <td>Wisconsin</td>\n",
       "      <td>BRFSS</td>\n",
       "      <td>Visual Function</td>\n",
       "      <td>Difficulty Seeing with Glasses</td>\n",
       "      <td>Percentage of people who are blind or have ser...</td>\n",
       "      <td>Yes</td>\n",
       "      <td>18-39 years</td>\n",
       "      <td>...</td>\n",
       "      <td>(44.393191174, -89.816370742)</td>\n",
       "      <td>TVFUNC</td>\n",
       "      <td>CDIFGL</td>\n",
       "      <td>BRVPGL</td>\n",
       "      <td>RYES</td>\n",
       "      <td>AGE1839</td>\n",
       "      <td>GALL</td>\n",
       "      <td>ALLRACE</td>\n",
       "      <td>RFAPAR</td>\n",
       "      <td>RFALLPAR2</td>\n",
       "    </tr>\n",
       "    <tr>\n",
       "      <td>4</td>\n",
       "      <td>2017</td>\n",
       "      <td>2017</td>\n",
       "      <td>NV</td>\n",
       "      <td>Nevada</td>\n",
       "      <td>BRFSS</td>\n",
       "      <td>Visual Function</td>\n",
       "      <td>Difficulty Seeing with Glasses</td>\n",
       "      <td>Percentage of people who are blind or have ser...</td>\n",
       "      <td>Yes</td>\n",
       "      <td>18-39 years</td>\n",
       "      <td>...</td>\n",
       "      <td>(39.49324039, -117.071840564)</td>\n",
       "      <td>TVFUNC</td>\n",
       "      <td>CDIFGL</td>\n",
       "      <td>BRVPGL</td>\n",
       "      <td>RYES</td>\n",
       "      <td>AGE1839</td>\n",
       "      <td>GALL</td>\n",
       "      <td>ALLRACE</td>\n",
       "      <td>RFAPAR</td>\n",
       "      <td>RFALLPAR2</td>\n",
       "    </tr>\n",
       "    <tr>\n",
       "      <td>...</td>\n",
       "      <td>...</td>\n",
       "      <td>...</td>\n",
       "      <td>...</td>\n",
       "      <td>...</td>\n",
       "      <td>...</td>\n",
       "      <td>...</td>\n",
       "      <td>...</td>\n",
       "      <td>...</td>\n",
       "      <td>...</td>\n",
       "      <td>...</td>\n",
       "      <td>...</td>\n",
       "      <td>...</td>\n",
       "      <td>...</td>\n",
       "      <td>...</td>\n",
       "      <td>...</td>\n",
       "      <td>...</td>\n",
       "      <td>...</td>\n",
       "      <td>...</td>\n",
       "      <td>...</td>\n",
       "      <td>...</td>\n",
       "      <td>...</td>\n",
       "    </tr>\n",
       "    <tr>\n",
       "      <td>1993</td>\n",
       "      <td>2014</td>\n",
       "      <td>2014</td>\n",
       "      <td>ME</td>\n",
       "      <td>Maine</td>\n",
       "      <td>BRFSS</td>\n",
       "      <td>Visual Function</td>\n",
       "      <td>Difficulty Seeing with Glasses</td>\n",
       "      <td>Percentage of people who are blind or have ser...</td>\n",
       "      <td>Yes</td>\n",
       "      <td>40-64 years</td>\n",
       "      <td>...</td>\n",
       "      <td>(45.254228894001, -68.985031336)</td>\n",
       "      <td>TVFUNC</td>\n",
       "      <td>CDIFGL</td>\n",
       "      <td>BRVPGL</td>\n",
       "      <td>RYES</td>\n",
       "      <td>AGE4064</td>\n",
       "      <td>GALL</td>\n",
       "      <td>ALLRACE</td>\n",
       "      <td>RFAPAR</td>\n",
       "      <td>RFALLPAR2</td>\n",
       "    </tr>\n",
       "    <tr>\n",
       "      <td>1994</td>\n",
       "      <td>2015</td>\n",
       "      <td>2015</td>\n",
       "      <td>TX</td>\n",
       "      <td>Texas</td>\n",
       "      <td>BRFSS</td>\n",
       "      <td>Visual Function</td>\n",
       "      <td>Difficulty Seeing with Glasses</td>\n",
       "      <td>Percentage of people who are blind or have ser...</td>\n",
       "      <td>Yes</td>\n",
       "      <td>65 years and older</td>\n",
       "      <td>...</td>\n",
       "      <td>(31.827240407, -99.426770206)</td>\n",
       "      <td>TVFUNC</td>\n",
       "      <td>CDIFGL</td>\n",
       "      <td>BRVPGL</td>\n",
       "      <td>RYES</td>\n",
       "      <td>AGE65PLUS</td>\n",
       "      <td>GALL</td>\n",
       "      <td>ALLRACE</td>\n",
       "      <td>RFAPAR</td>\n",
       "      <td>RFALLPAR2</td>\n",
       "    </tr>\n",
       "    <tr>\n",
       "      <td>1995</td>\n",
       "      <td>2014</td>\n",
       "      <td>2014</td>\n",
       "      <td>ND</td>\n",
       "      <td>North Dakota</td>\n",
       "      <td>BRFSS</td>\n",
       "      <td>Visual Function</td>\n",
       "      <td>Difficulty Seeing with Glasses</td>\n",
       "      <td>Percentage of people who are blind or have ser...</td>\n",
       "      <td>Yes</td>\n",
       "      <td>65 years and older</td>\n",
       "      <td>...</td>\n",
       "      <td>(47.475319779, -100.118421049)</td>\n",
       "      <td>TVFUNC</td>\n",
       "      <td>CDIFGL</td>\n",
       "      <td>BRVPGL</td>\n",
       "      <td>RYES</td>\n",
       "      <td>AGE65PLUS</td>\n",
       "      <td>GALL</td>\n",
       "      <td>ALLRACE</td>\n",
       "      <td>RFAPAR</td>\n",
       "      <td>RFALLPAR2</td>\n",
       "    </tr>\n",
       "    <tr>\n",
       "      <td>1996</td>\n",
       "      <td>2013</td>\n",
       "      <td>2013</td>\n",
       "      <td>WA</td>\n",
       "      <td>Washington</td>\n",
       "      <td>BRFSS</td>\n",
       "      <td>Visual Function</td>\n",
       "      <td>Difficulty Seeing with Glasses</td>\n",
       "      <td>Percentage of people who are blind or have ser...</td>\n",
       "      <td>Yes</td>\n",
       "      <td>40-64 years</td>\n",
       "      <td>...</td>\n",
       "      <td>(47.522278629, -120.47001079)</td>\n",
       "      <td>TVFUNC</td>\n",
       "      <td>CDIFGL</td>\n",
       "      <td>BRVPGL</td>\n",
       "      <td>RYES</td>\n",
       "      <td>AGE4064</td>\n",
       "      <td>GALL</td>\n",
       "      <td>ALLRACE</td>\n",
       "      <td>RFAPAR</td>\n",
       "      <td>RFALLPAR2</td>\n",
       "    </tr>\n",
       "    <tr>\n",
       "      <td>1997</td>\n",
       "      <td>2016</td>\n",
       "      <td>2016</td>\n",
       "      <td>OH</td>\n",
       "      <td>Ohio</td>\n",
       "      <td>BRFSS</td>\n",
       "      <td>Visual Function</td>\n",
       "      <td>Difficulty Seeing with Glasses</td>\n",
       "      <td>Percentage of people who are blind or have ser...</td>\n",
       "      <td>Yes</td>\n",
       "      <td>40-64 years</td>\n",
       "      <td>...</td>\n",
       "      <td>(40.060210141, -82.404260056)</td>\n",
       "      <td>TVFUNC</td>\n",
       "      <td>CDIFGL</td>\n",
       "      <td>BRVPGL</td>\n",
       "      <td>RYES</td>\n",
       "      <td>AGE4064</td>\n",
       "      <td>GALL</td>\n",
       "      <td>ALLRACE</td>\n",
       "      <td>RFAPAR</td>\n",
       "      <td>RFALLPAR2</td>\n",
       "    </tr>\n",
       "  </tbody>\n",
       "</table>\n",
       "<p>1998 rows × 33 columns</p>\n",
       "</div>"
      ],
      "text/plain": [
       "      YearStart  YearEnd LocationAbbr  \\\n",
       "0          2016     2016           VI   \n",
       "1          2017     2017           NV   \n",
       "2          2017     2017           WI   \n",
       "3          2017     2017           WI   \n",
       "4          2017     2017           NV   \n",
       "...         ...      ...          ...   \n",
       "1993       2014     2014           ME   \n",
       "1994       2015     2015           TX   \n",
       "1995       2014     2014           ND   \n",
       "1996       2013     2013           WA   \n",
       "1997       2016     2016           OH   \n",
       "\n",
       "                                  LocationDesc DataSource            Topic  \\\n",
       "0     U.S. Virgin Islands                           BRFSS  Visual Function   \n",
       "1     Nevada                                        BRFSS  Visual Function   \n",
       "2     Wisconsin                                     BRFSS  Visual Function   \n",
       "3     Wisconsin                                     BRFSS  Visual Function   \n",
       "4     Nevada                                        BRFSS  Visual Function   \n",
       "...                                        ...        ...              ...   \n",
       "1993  Maine                                         BRFSS  Visual Function   \n",
       "1994  Texas                                         BRFSS  Visual Function   \n",
       "1995  North Dakota                                  BRFSS  Visual Function   \n",
       "1996  Washington                                    BRFSS  Visual Function   \n",
       "1997  Ohio                                          BRFSS  Visual Function   \n",
       "\n",
       "                            Category  \\\n",
       "0     Difficulty Seeing with Glasses   \n",
       "1     Difficulty Seeing with Glasses   \n",
       "2     Difficulty Seeing with Glasses   \n",
       "3     Difficulty Seeing with Glasses   \n",
       "4     Difficulty Seeing with Glasses   \n",
       "...                              ...   \n",
       "1993  Difficulty Seeing with Glasses   \n",
       "1994  Difficulty Seeing with Glasses   \n",
       "1995  Difficulty Seeing with Glasses   \n",
       "1996  Difficulty Seeing with Glasses   \n",
       "1997  Difficulty Seeing with Glasses   \n",
       "\n",
       "                                               Question Response  \\\n",
       "0     Percentage of people who are blind or have ser...      Yes   \n",
       "1     Percentage of people who are blind or have ser...      Yes   \n",
       "2     Percentage of people who are blind or have ser...      Yes   \n",
       "3     Percentage of people who are blind or have ser...      Yes   \n",
       "4     Percentage of people who are blind or have ser...      Yes   \n",
       "...                                                 ...      ...   \n",
       "1993  Percentage of people who are blind or have ser...      Yes   \n",
       "1994  Percentage of people who are blind or have ser...      Yes   \n",
       "1995  Percentage of people who are blind or have ser...      Yes   \n",
       "1996  Percentage of people who are blind or have ser...      Yes   \n",
       "1997  Percentage of people who are blind or have ser...      Yes   \n",
       "\n",
       "                       Age  ...                       Geolocation TopicID  \\\n",
       "0        40-64 years        ...           (18.335765, -64.896335)  TVFUNC   \n",
       "1     18-39 years           ...     (39.49324039, -117.071840564)  TVFUNC   \n",
       "2     40-64 years           ...     (44.393191174, -89.816370742)  TVFUNC   \n",
       "3     18-39 years           ...     (44.393191174, -89.816370742)  TVFUNC   \n",
       "4     18-39 years           ...     (39.49324039, -117.071840564)  TVFUNC   \n",
       "...                    ...  ...                               ...     ...   \n",
       "1993     40-64 years        ...  (45.254228894001, -68.985031336)  TVFUNC   \n",
       "1994    65 years and older  ...     (31.827240407, -99.426770206)  TVFUNC   \n",
       "1995    65 years and older  ...    (47.475319779, -100.118421049)  TVFUNC   \n",
       "1996     40-64 years        ...     (47.522278629, -120.47001079)  TVFUNC   \n",
       "1997     40-64 years        ...     (40.060210141, -82.404260056)  TVFUNC   \n",
       "\n",
       "     CategoryID QuestionID ResponseID              AgeID  \\\n",
       "0        CDIFGL     BRVPGL       RYES  AGE4064             \n",
       "1        CDIFGL     BRVPGL       RYES  AGE1839             \n",
       "2        CDIFGL     BRVPGL       RYES  AGE4064             \n",
       "3        CDIFGL     BRVPGL       RYES  AGE1839             \n",
       "4        CDIFGL     BRVPGL       RYES  AGE1839             \n",
       "...         ...        ...        ...                ...   \n",
       "1993     CDIFGL     BRVPGL       RYES  AGE4064             \n",
       "1994     CDIFGL     BRVPGL       RYES  AGE65PLUS           \n",
       "1995     CDIFGL     BRVPGL       RYES  AGE65PLUS           \n",
       "1996     CDIFGL     BRVPGL       RYES  AGE4064             \n",
       "1997     CDIFGL     BRVPGL       RYES  AGE4064             \n",
       "\n",
       "                              GenderID                   RaceEthnicityID  \\\n",
       "0     GALL                              ALLRACE                            \n",
       "1     GALL                              ALLRACE                            \n",
       "2     GALL                              ALLRACE                            \n",
       "3     GALL                              ALLRACE                            \n",
       "4     GALL                              ALLRACE                            \n",
       "...                                ...                               ...   \n",
       "1993  GALL                              ALLRACE                            \n",
       "1994  GALL                              ALLRACE                            \n",
       "1995  GALL                              ALLRACE                            \n",
       "1996  GALL                              ALLRACE                            \n",
       "1997  GALL                              ALLRACE                            \n",
       "\n",
       "              RiskFactorID  RiskFactorResponseID  \n",
       "0     RFAPAR                RFALLPAR2             \n",
       "1     RFAPAR                RFALLPAR2             \n",
       "2     RFAPAR                RFALLPAR2             \n",
       "3     RFAPAR                RFALLPAR2             \n",
       "4     RFAPAR                RFALLPAR2             \n",
       "...                    ...                   ...  \n",
       "1993  RFAPAR                RFALLPAR2             \n",
       "1994  RFAPAR                RFALLPAR2             \n",
       "1995  RFAPAR                RFALLPAR2             \n",
       "1996  RFAPAR                RFALLPAR2             \n",
       "1997  RFAPAR                RFALLPAR2             \n",
       "\n",
       "[1998 rows x 33 columns]"
      ]
     },
     "execution_count": 31,
     "metadata": {},
     "output_type": "execute_result"
    }
   ],
   "source": [
    "df"
   ]
  },
  {
   "cell_type": "code",
   "execution_count": 77,
   "metadata": {},
   "outputs": [
    {
     "data": {
      "text/plain": [
       "YearStart                                                               4025994\n",
       "YearEnd                                                                 4025994\n",
       "LocationAbbr                  VINVWIWINVMDUSNJUSMNAZUSFLDCINHIMEGAMINCCTARUS...\n",
       "LocationDesc                  U.S. Virgin Islands                     Nevada...\n",
       "DataSource                    BRFSSBRFSSBRFSSBRFSSBRFSSBRFSSBRFSSBRFSSBRFSSB...\n",
       "Topic                         Visual FunctionVisual FunctionVisual FunctionV...\n",
       "Category                      Difficulty Seeing with GlassesDifficulty Seein...\n",
       "Question                      Percentage of people who are blind or have ser...\n",
       "Response                      YesYesYesYesYesYesYesYesYesYesYesYesYesYesYesY...\n",
       "Age                           40-64 years      18-39 years         40-64 yea...\n",
       "Gender                        Total                           Total         ...\n",
       "RaceEthnicity                 All races                       All races     ...\n",
       "RiskFactor                    All participants    All participants    All pa...\n",
       "RiskFactorResponse            All participants    All participants    All pa...\n",
       "Data_Value_Unit               %%%%%%%%%%%%%%%%%%%%%%%%%%%%%%%%%%%%%%%%%%%%%%...\n",
       "Data_Value_Type               Crude PrevalenceAge-adjusted PrevalenceAge-adj...\n",
       "Data_Value                                                              10466.6\n",
       "Data_Value_Footnote_Symbol                                                  ...\n",
       "Data_Value_Footnote                                                         ...\n",
       "Low_Confidence_Limit                                                       8284\n",
       "High_Confidence_Limit                                                   12648.5\n",
       "Sample_Size                                                          6.9668e+08\n",
       "LocationID                                                                72636\n",
       "TopicID                       TVFUNCTVFUNCTVFUNCTVFUNCTVFUNCTVFUNCTVFUNCTVFU...\n",
       "CategoryID                    CDIFGLCDIFGLCDIFGLCDIFGLCDIFGLCDIFGLCDIFGLCDIF...\n",
       "QuestionID                    BRVPGLBRVPGLBRVPGLBRVPGLBRVPGLBRVPGLBRVPGLBRVP...\n",
       "ResponseID                    RYESRYESRYESRYESRYESRYESRYESRYESRYESRYESRYESRY...\n",
       "AgeID                         AGE4064          AGE1839          AGE4064     ...\n",
       "GenderID                      GALL                            GALL          ...\n",
       "RaceEthnicityID               ALLRACE                         ALLRACE       ...\n",
       "RiskFactorID                  RFAPAR              RFAPAR              RFAPAR...\n",
       "RiskFactorResponseID          RFALLPAR2           RFALLPAR2           RFALLP...\n",
       "dtype: object"
      ]
     },
     "execution_count": 77,
     "metadata": {},
     "output_type": "execute_result"
    }
   ],
   "source": [
    "df.sum()"
   ]
  },
  {
   "cell_type": "code",
   "execution_count": 83,
   "metadata": {},
   "outputs": [
    {
     "data": {
      "text/plain": [
       "YearStart                2.000857e+00\n",
       "YearEnd                  2.000857e+00\n",
       "Data_Value               9.808738e+00\n",
       "Low_Confidence_Limit     8.026538e+00\n",
       "High_Confidence_Limit    1.243436e+01\n",
       "Sample_Size              7.217361e+11\n",
       "LocationID               3.709069e+02\n",
       "dtype: float64"
      ]
     },
     "execution_count": 83,
     "metadata": {},
     "output_type": "execute_result"
    }
   ],
   "source": [
    "df.var()"
   ]
  },
  {
   "cell_type": "code",
   "execution_count": 36,
   "metadata": {},
   "outputs": [],
   "source": [
    "df1=pd.read_csv(\"Age-related_Macular_Degeneration__Age-Adjusted_Prevalence.csv\")"
   ]
  },
  {
   "cell_type": "code",
   "execution_count": 37,
   "metadata": {},
   "outputs": [
    {
     "data": {
      "text/html": [
       "<div>\n",
       "<style scoped>\n",
       "    .dataframe tbody tr th:only-of-type {\n",
       "        vertical-align: middle;\n",
       "    }\n",
       "\n",
       "    .dataframe tbody tr th {\n",
       "        vertical-align: top;\n",
       "    }\n",
       "\n",
       "    .dataframe thead th {\n",
       "        text-align: right;\n",
       "    }\n",
       "</style>\n",
       "<table border=\"1\" class=\"dataframe\">\n",
       "  <thead>\n",
       "    <tr style=\"text-align: right;\">\n",
       "      <th></th>\n",
       "      <th>Year</th>\n",
       "      <th>LocationAbbr</th>\n",
       "      <th>LocationDesc</th>\n",
       "      <th>Topic</th>\n",
       "      <th>Question</th>\n",
       "      <th>DataSource</th>\n",
       "      <th>Response</th>\n",
       "      <th>Data_Value_Unit</th>\n",
       "      <th>Data_Value_Type</th>\n",
       "      <th>Data_Value</th>\n",
       "      <th>...</th>\n",
       "      <th>Sample_Size</th>\n",
       "      <th>Break_Out</th>\n",
       "      <th>Break_Out_Category</th>\n",
       "      <th>GeoLocation</th>\n",
       "      <th>TopicId</th>\n",
       "      <th>QuestionId</th>\n",
       "      <th>LocationId</th>\n",
       "      <th>BreakOutId</th>\n",
       "      <th>BreakOutCategoryId</th>\n",
       "      <th>ResponseId</th>\n",
       "    </tr>\n",
       "  </thead>\n",
       "  <tbody>\n",
       "    <tr>\n",
       "      <td>0</td>\n",
       "      <td>2011</td>\n",
       "      <td>TX</td>\n",
       "      <td>Texas</td>\n",
       "      <td>Eye Diseases and Injury</td>\n",
       "      <td>Percentage of Adults 40 Years and Older Who Re...</td>\n",
       "      <td>BRFSS</td>\n",
       "      <td>NaN</td>\n",
       "      <td>%</td>\n",
       "      <td>Age-Adjusted Prevalence</td>\n",
       "      <td>4.7</td>\n",
       "      <td>...</td>\n",
       "      <td>5,111</td>\n",
       "      <td>Total</td>\n",
       "      <td>Age Group</td>\n",
       "      <td>(31.827240407, -99.426770206)</td>\n",
       "      <td>T02</td>\n",
       "      <td>Q49_2011</td>\n",
       "      <td>48</td>\n",
       "      <td>AgeTotal</td>\n",
       "      <td>BOC1</td>\n",
       "      <td>NaN</td>\n",
       "    </tr>\n",
       "    <tr>\n",
       "      <td>1</td>\n",
       "      <td>2011</td>\n",
       "      <td>CA</td>\n",
       "      <td>California</td>\n",
       "      <td>Eye Diseases and Injury</td>\n",
       "      <td>Percentage of Adults 40 Years and Older Who Re...</td>\n",
       "      <td>BRFSS</td>\n",
       "      <td>NaN</td>\n",
       "      <td>%</td>\n",
       "      <td>Age-Adjusted Prevalence</td>\n",
       "      <td>4.7</td>\n",
       "      <td>...</td>\n",
       "      <td>7,920</td>\n",
       "      <td>Total</td>\n",
       "      <td>Age Group</td>\n",
       "      <td>(37.638640123, -120.999999538)</td>\n",
       "      <td>T02</td>\n",
       "      <td>Q49_2011</td>\n",
       "      <td>6</td>\n",
       "      <td>AgeTotal</td>\n",
       "      <td>BOC1</td>\n",
       "      <td>NaN</td>\n",
       "    </tr>\n",
       "    <tr>\n",
       "      <td>2</td>\n",
       "      <td>2011</td>\n",
       "      <td>NJ</td>\n",
       "      <td>New Jersey</td>\n",
       "      <td>Eye Diseases and Injury</td>\n",
       "      <td>Percentage of Adults 40 Years and Older Who Re...</td>\n",
       "      <td>BRFSS</td>\n",
       "      <td>NaN</td>\n",
       "      <td>%</td>\n",
       "      <td>Age-Adjusted Prevalence</td>\n",
       "      <td>4.1</td>\n",
       "      <td>...</td>\n",
       "      <td>3,406</td>\n",
       "      <td>Total</td>\n",
       "      <td>Age Group</td>\n",
       "      <td>(40.130570048, -74.273691288)</td>\n",
       "      <td>T02</td>\n",
       "      <td>Q49_2011</td>\n",
       "      <td>34</td>\n",
       "      <td>AgeTotal</td>\n",
       "      <td>BOC1</td>\n",
       "      <td>NaN</td>\n",
       "    </tr>\n",
       "    <tr>\n",
       "      <td>3</td>\n",
       "      <td>2011</td>\n",
       "      <td>OH</td>\n",
       "      <td>Ohio</td>\n",
       "      <td>Eye Diseases and Injury</td>\n",
       "      <td>Percentage of Adults 40 Years and Older Who Re...</td>\n",
       "      <td>BRFSS</td>\n",
       "      <td>NaN</td>\n",
       "      <td>%</td>\n",
       "      <td>Age-Adjusted Prevalence</td>\n",
       "      <td>3.4</td>\n",
       "      <td>...</td>\n",
       "      <td>6,892</td>\n",
       "      <td>Total</td>\n",
       "      <td>Age Group</td>\n",
       "      <td>(40.060210141, -82.404260056)</td>\n",
       "      <td>T02</td>\n",
       "      <td>Q49_2011</td>\n",
       "      <td>39</td>\n",
       "      <td>AgeTotal</td>\n",
       "      <td>BOC1</td>\n",
       "      <td>NaN</td>\n",
       "    </tr>\n",
       "    <tr>\n",
       "      <td>4</td>\n",
       "      <td>2011</td>\n",
       "      <td>AK</td>\n",
       "      <td>Alaska</td>\n",
       "      <td>Eye Diseases and Injury</td>\n",
       "      <td>Percentage of Adults 40 Years and Older Who Re...</td>\n",
       "      <td>BRFSS</td>\n",
       "      <td>NaN</td>\n",
       "      <td>%</td>\n",
       "      <td>Age-Adjusted Prevalence</td>\n",
       "      <td>4.1</td>\n",
       "      <td>...</td>\n",
       "      <td>2,181</td>\n",
       "      <td>Total</td>\n",
       "      <td>Age Group</td>\n",
       "      <td>(64.845079957001, -147.722059036)</td>\n",
       "      <td>T02</td>\n",
       "      <td>Q49_2011</td>\n",
       "      <td>2</td>\n",
       "      <td>AgeTotal</td>\n",
       "      <td>BOC1</td>\n",
       "      <td>NaN</td>\n",
       "    </tr>\n",
       "    <tr>\n",
       "      <td>5</td>\n",
       "      <td>2011</td>\n",
       "      <td>MA</td>\n",
       "      <td>Massachusetts</td>\n",
       "      <td>Eye Diseases and Injury</td>\n",
       "      <td>Percentage of Adults 40 Years and Older Who Re...</td>\n",
       "      <td>BRFSS</td>\n",
       "      <td>NaN</td>\n",
       "      <td>%</td>\n",
       "      <td>Age-Adjusted Prevalence</td>\n",
       "      <td>3.6</td>\n",
       "      <td>...</td>\n",
       "      <td>4,666</td>\n",
       "      <td>Total</td>\n",
       "      <td>Age Group</td>\n",
       "      <td>(42.27687047, -72.082690675)</td>\n",
       "      <td>T02</td>\n",
       "      <td>Q49_2011</td>\n",
       "      <td>25</td>\n",
       "      <td>AgeTotal</td>\n",
       "      <td>BOC1</td>\n",
       "      <td>NaN</td>\n",
       "    </tr>\n",
       "  </tbody>\n",
       "</table>\n",
       "<p>6 rows × 24 columns</p>\n",
       "</div>"
      ],
      "text/plain": [
       "   Year LocationAbbr   LocationDesc                    Topic  \\\n",
       "0  2011           TX          Texas  Eye Diseases and Injury   \n",
       "1  2011           CA     California  Eye Diseases and Injury   \n",
       "2  2011           NJ     New Jersey  Eye Diseases and Injury   \n",
       "3  2011           OH           Ohio  Eye Diseases and Injury   \n",
       "4  2011           AK         Alaska  Eye Diseases and Injury   \n",
       "5  2011           MA  Massachusetts  Eye Diseases and Injury   \n",
       "\n",
       "                                            Question DataSource  Response  \\\n",
       "0  Percentage of Adults 40 Years and Older Who Re...      BRFSS       NaN   \n",
       "1  Percentage of Adults 40 Years and Older Who Re...      BRFSS       NaN   \n",
       "2  Percentage of Adults 40 Years and Older Who Re...      BRFSS       NaN   \n",
       "3  Percentage of Adults 40 Years and Older Who Re...      BRFSS       NaN   \n",
       "4  Percentage of Adults 40 Years and Older Who Re...      BRFSS       NaN   \n",
       "5  Percentage of Adults 40 Years and Older Who Re...      BRFSS       NaN   \n",
       "\n",
       "  Data_Value_Unit          Data_Value_Type  Data_Value  ...  Sample_Size  \\\n",
       "0               %  Age-Adjusted Prevalence         4.7  ...        5,111   \n",
       "1               %  Age-Adjusted Prevalence         4.7  ...        7,920   \n",
       "2               %  Age-Adjusted Prevalence         4.1  ...        3,406   \n",
       "3               %  Age-Adjusted Prevalence         3.4  ...        6,892   \n",
       "4               %  Age-Adjusted Prevalence         4.1  ...        2,181   \n",
       "5               %  Age-Adjusted Prevalence         3.6  ...        4,666   \n",
       "\n",
       "   Break_Out  Break_Out_Category                        GeoLocation TopicId  \\\n",
       "0      Total           Age Group      (31.827240407, -99.426770206)     T02   \n",
       "1      Total           Age Group     (37.638640123, -120.999999538)     T02   \n",
       "2      Total           Age Group      (40.130570048, -74.273691288)     T02   \n",
       "3      Total           Age Group      (40.060210141, -82.404260056)     T02   \n",
       "4      Total           Age Group  (64.845079957001, -147.722059036)     T02   \n",
       "5      Total           Age Group       (42.27687047, -72.082690675)     T02   \n",
       "\n",
       "  QuestionId LocationId BreakOutId BreakOutCategoryId ResponseId  \n",
       "0   Q49_2011         48   AgeTotal               BOC1        NaN  \n",
       "1   Q49_2011          6   AgeTotal               BOC1        NaN  \n",
       "2   Q49_2011         34   AgeTotal               BOC1        NaN  \n",
       "3   Q49_2011         39   AgeTotal               BOC1        NaN  \n",
       "4   Q49_2011          2   AgeTotal               BOC1        NaN  \n",
       "5   Q49_2011         25   AgeTotal               BOC1        NaN  \n",
       "\n",
       "[6 rows x 24 columns]"
      ]
     },
     "execution_count": 37,
     "metadata": {},
     "output_type": "execute_result"
    }
   ],
   "source": [
    "df1"
   ]
  },
  {
   "cell_type": "code",
   "execution_count": 78,
   "metadata": {},
   "outputs": [
    {
     "data": {
      "text/plain": [
       "Year                                                                      12066\n",
       "LocationAbbr                                                       TXCANJOHAKMA\n",
       "LocationDesc                   TexasCaliforniaNew JerseyOhioAlaskaMassachusetts\n",
       "Topic                         Eye Diseases and InjuryEye Diseases and Injury...\n",
       "Question                      Percentage of Adults 40 Years and Older Who Re...\n",
       "DataSource                                       BRFSSBRFSSBRFSSBRFSSBRFSSBRFSS\n",
       "Response                                                                      0\n",
       "Data_Value_Unit                                                          %%%%%%\n",
       "Data_Value_Type               Age-Adjusted PrevalenceAge-Adjusted Prevalence...\n",
       "Data_Value                                                                 24.6\n",
       "Data_Value_Footnote_Symbol                                                    0\n",
       "Data_Value_Footnote                                                           0\n",
       "Low_Confidence_limit                                                       20.1\n",
       "High_Confidence_Limit                                                      29.9\n",
       "Sample_Size                                      5,1117,9203,4066,8922,1814,666\n",
       "Break_Out                                        TotalTotalTotalTotalTotalTotal\n",
       "Break_Out_Category            Age GroupAge GroupAge GroupAge GroupAge GroupA...\n",
       "GeoLocation                   (31.827240407, -99.426770206)(37.638640123, -1...\n",
       "TopicId                                                      T02T02T02T02T02T02\n",
       "QuestionId                     Q49_2011Q49_2011Q49_2011Q49_2011Q49_2011Q49_2011\n",
       "LocationId                                                                  154\n",
       "BreakOutId                     AgeTotalAgeTotalAgeTotalAgeTotalAgeTotalAgeTotal\n",
       "BreakOutCategoryId                                     BOC1BOC1BOC1BOC1BOC1BOC1\n",
       "ResponseId                                                                    0\n",
       "dtype: object"
      ]
     },
     "execution_count": 78,
     "metadata": {},
     "output_type": "execute_result"
    }
   ],
   "source": [
    "df1.sum()"
   ]
  },
  {
   "cell_type": "code",
   "execution_count": 84,
   "metadata": {},
   "outputs": [
    {
     "data": {
      "text/plain": [
       "Year                            0.000000\n",
       "Response                             NaN\n",
       "Data_Value                      0.292000\n",
       "Data_Value_Footnote_Symbol           NaN\n",
       "Data_Value_Footnote                  NaN\n",
       "Low_Confidence_limit            0.247000\n",
       "High_Confidence_Limit           0.437667\n",
       "LocationId                    338.666667\n",
       "ResponseId                           NaN\n",
       "dtype: float64"
      ]
     },
     "execution_count": 84,
     "metadata": {},
     "output_type": "execute_result"
    }
   ],
   "source": [
    "df1.var()"
   ]
  },
  {
   "cell_type": "markdown",
   "metadata": {},
   "source": []
  },
  {
   "cell_type": "code",
   "execution_count": 32,
   "metadata": {},
   "outputs": [],
   "source": [
    "y=df['RiskFactor'];\n",
    "x=df['Age']"
   ]
  },
  {
   "cell_type": "code",
   "execution_count": 33,
   "metadata": {},
   "outputs": [
    {
     "data": {
      "text/plain": [
       "<matplotlib.collections.PathCollection at 0x1dede64ed48>"
      ]
     },
     "execution_count": 33,
     "metadata": {},
     "output_type": "execute_result"
    },
    {
     "data": {
      "image/png": "[encoded data removed]",
      "text/plain": [
       "<Figure size 432x288 with 1 Axes>"
      ]
     },
     "metadata": {
      "needs_background": "light"
     },
     "output_type": "display_data"
    }
   ],
   "source": [
    "plt.xlabel('RiskFactor'); plt.ylabel('Age')\n",
    "plt.scatter(x,y)"
   ]
  },
  {
   "cell_type": "code",
   "execution_count": 38,
   "metadata": {},
   "outputs": [],
   "source": [
    "y=df['RiskFactor'];\n",
    "x=df['Gender']"
   ]
  },
  {
   "cell_type": "code",
   "execution_count": 39,
   "metadata": {},
   "outputs": [
    {
     "data": {
      "text/plain": [
       "<matplotlib.collections.PathCollection at 0x1dede64ec08>"
      ]
     },
     "execution_count": 39,
     "metadata": {},
     "output_type": "execute_result"
    },
    {
     "data": {
      "image/png": "[encoded data removed]",
      "text/plain": [
       "<Figure size 432x288 with 1 Axes>"
      ]
     },
     "metadata": {
      "needs_background": "light"
     },
     "output_type": "display_data"
    }
   ],
   "source": [
    "plt.xlabel('RiskFactor'); plt.ylabel('Gender')\n",
    "plt.scatter(x,y)"
   ]
  },
  {
   "cell_type": "code",
   "execution_count": 72,
   "metadata": {},
   "outputs": [],
   "source": [
    "y=df['Low_Confidence_Limit'];\n",
    "x=df['High_Confidence_Limit']"
   ]
  },
  {
   "cell_type": "code",
   "execution_count": 73,
   "metadata": {},
   "outputs": [
    {
     "data": {
      "text/plain": [
       "<matplotlib.collections.PathCollection at 0x1dedeee4ec8>"
      ]
     },
     "execution_count": 73,
     "metadata": {},
     "output_type": "execute_result"
    },
    {
     "data": {
      "image/png": "[encoded data removed]",
      "text/plain": [
       "<Figure size 432x288 with 1 Axes>"
      ]
     },
     "metadata": {
      "needs_background": "light"
     },
     "output_type": "display_data"
    }
   ],
   "source": [
    "plt.xlabel('Low_Confidence_Limit'); plt.ylabel('High_Confidence_Limit')\n",
    "plt.scatter(x,y, alpha=.8, s=9)"
   ]
  },
  {
   "cell_type": "code",
   "execution_count": 74,
   "metadata": {},
   "outputs": [
    {
     "data": {
      "text/plain": [
       "YearStart                 2015.00\n",
       "YearEnd                   2015.00\n",
       "Data_Value                   4.96\n",
       "Low_Confidence_Limit         3.93\n",
       "High_Confidence_Limit        5.94\n",
       "Sample_Size              60000.00\n",
       "LocationID                  37.00\n",
       "dtype: float64"
      ]
     },
     "execution_count": 74,
     "metadata": {},
     "output_type": "execute_result"
    }
   ],
   "source": [
    "df.median()"
   ]
  },
  {
   "cell_type": "code",
   "execution_count": 75,
   "metadata": {},
   "outputs": [
    {
     "data": {
      "text/plain": [
       "YearStart                  2015.012012\n",
       "YearEnd                    2015.012012\n",
       "Data_Value                    5.457028\n",
       "Low_Confidence_Limit          4.319082\n",
       "High_Confidence_Limit         6.594640\n",
       "Sample_Size              363232.533889\n",
       "LocationID                   36.354354\n",
       "dtype: float64"
      ]
     },
     "execution_count": 75,
     "metadata": {},
     "output_type": "execute_result"
    }
   ],
   "source": [
    "df.mean()"
   ]
  },
  {
   "cell_type": "code",
   "execution_count": 85,
   "metadata": {},
   "outputs": [],
   "source": [
    "y=df['LocationAbbr'];\n",
    "x=df['Response']"
   ]
  },
  {
   "cell_type": "code",
   "execution_count": 88,
   "metadata": {},
   "outputs": [
    {
     "data": {
      "text/plain": [
       "<matplotlib.collections.PathCollection at 0x1dedebad408>"
      ]
     },
     "execution_count": 88,
     "metadata": {},
     "output_type": "execute_result"
    },
    {
     "data": {
      "image/png": "[encoded data removed]",
      "text/plain": [
       "<Figure size 432x288 with 1 Axes>"
      ]
     },
     "metadata": {
      "needs_background": "light"
     },
     "output_type": "display_data"
    }
   ],
   "source": [
    "plt.xlabel('LocationAbbr'); plt.ylabel('Response')\n",
    "plt.scatter(x,y, alpha=.01, s=5)"
   ]
  },
  {
   "cell_type": "code",
   "execution_count": null,
   "metadata": {},
   "outputs": [],
   "source": []
  }
 ],
 "metadata": {
  "kernelspec": {
   "display_name": "Python 3",
   "language": "python",
   "name": "python3"
  },
  "language_info": {
   "codemirror_mode": {
    "name": "ipython",
    "version": 3
   },
   "file_extension": ".py",
   "mimetype": "text/x-python",
   "name": "python",
   "nbconvert_exporter": "python",
   "pygments_lexer": "ipython3",
   "version": "3.7.4"
  }
 },
 "nbformat": 4,
 "nbformat_minor": 2
}
